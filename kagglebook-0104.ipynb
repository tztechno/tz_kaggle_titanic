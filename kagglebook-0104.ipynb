{
 "cells": [
  {
   "cell_type": "code",
   "execution_count": 1,
   "metadata": {
    "_cell_guid": "79c7e3d0-c299-4dcb-8224-4455121ee9b0",
    "_uuid": "d629ff2d2480ee46fbb7e2d37f6b5fab8052498a",
    "execution": {
     "iopub.execute_input": "2021-01-05T16:31:59.187279Z",
     "iopub.status.busy": "2021-01-05T16:31:59.186458Z",
     "iopub.status.idle": "2021-01-05T16:31:59.211931Z",
     "shell.execute_reply": "2021-01-05T16:31:59.212494Z"
    },
    "papermill": {
     "duration": 0.041524,
     "end_time": "2021-01-05T16:31:59.212734",
     "exception": false,
     "start_time": "2021-01-05T16:31:59.171210",
     "status": "completed"
    },
    "tags": []
   },
   "outputs": [],
   "source": [
    "import numpy as np\n",
    "import pandas as pd\n",
    "\n",
    "train = pd.read_csv('../input/titanic/train.csv')\n",
    "test = pd.read_csv('../input/titanic/test.csv')\n"
   ]
  },
  {
   "cell_type": "code",
   "execution_count": 2,
   "metadata": {
    "execution": {
     "iopub.execute_input": "2021-01-05T16:31:59.247296Z",
     "iopub.status.busy": "2021-01-05T16:31:59.243530Z",
     "iopub.status.idle": "2021-01-05T16:32:00.372098Z",
     "shell.execute_reply": "2021-01-05T16:32:00.371203Z"
    },
    "papermill": {
     "duration": 1.151279,
     "end_time": "2021-01-05T16:32:00.372241",
     "exception": false,
     "start_time": "2021-01-05T16:31:59.220962",
     "status": "completed"
    },
    "tags": []
   },
   "outputs": [],
   "source": [
    "# -----------------------------------\n",
    "# ロジスティック回帰用の特徴量の作成\n",
    "# -----------------------------------\n",
    "\n",
    "from sklearn.preprocessing import OneHotEncoder\n",
    "\n",
    "# 元データをコピーする\n",
    "train_x2 = train.drop(['Survived'], axis=1)\n",
    "test_x2 = test.copy()\n",
    "\n",
    "train_y = train['Survived'].copy()\n",
    "\n",
    "# 変数PassengerIdを除外する\n",
    "train_x2 = train_x2.drop(['PassengerId'], axis=1)\n",
    "test_x2 = test_x2.drop(['PassengerId'], axis=1)\n",
    "\n",
    "# 変数Name, Ticket, Cabinを除外する\n",
    "train_x2 = train_x2.drop(['Name', 'Ticket', 'Cabin'], axis=1)\n",
    "test_x2 = test_x2.drop(['Name', 'Ticket', 'Cabin'], axis=1)\n",
    "\n",
    "\n",
    "# one-hot encodingを行う\n",
    "cat_cols = ['Sex', 'Embarked', 'Pclass']\n",
    "ohe = OneHotEncoder(categories='auto', sparse=False)\n",
    "ohe.fit(train_x2[cat_cols].fillna('NA'))\n",
    "\n",
    "# one-hot encodingのダミー変数の列名を作成する\n",
    "ohe_columns = []\n",
    "for i, c in enumerate(cat_cols):\n",
    "    ohe_columns += [f'{c}_{v}' for v in ohe.categories_[i]]\n",
    "\n",
    "# one-hot encodingによる変換を行う\n",
    "ohe_train_x2 = pd.DataFrame(ohe.transform(train_x2[cat_cols].fillna('NA')), columns=ohe_columns)\n",
    "ohe_test_x2 = pd.DataFrame(ohe.transform(test_x2[cat_cols].fillna('NA')), columns=ohe_columns)\n",
    "\n",
    "# one-hot encoding済みの変数を除外する\n",
    "train_x2 = train_x2.drop(cat_cols, axis=1)\n",
    "test_x2 = test_x2.drop(cat_cols, axis=1)\n",
    "\n",
    "# one-hot encodingで変換された変数を結合する\n",
    "train_x2 = pd.concat([train_x2, ohe_train_x2], axis=1)\n",
    "test_x2 = pd.concat([test_x2, ohe_test_x2], axis=1)\n",
    "\n",
    "# 数値変数の欠損値を学習データの平均で埋める\n",
    "num_cols = ['Age', 'SibSp', 'Parch', 'Fare']\n",
    "for col in num_cols:\n",
    "    train_x2[col].fillna(train_x2[col].mean(), inplace=True)\n",
    "    test_x2[col].fillna(train_x2[col].mean(), inplace=True)\n",
    "\n",
    "# 変数Fareを対数変換する\n",
    "train_x2['Fare'] = np.log1p(train_x2['Fare'])\n",
    "test_x2['Fare'] = np.log1p(test_x2['Fare'])\n",
    "\n",
    "#train_x2データ"
   ]
  },
  {
   "cell_type": "code",
   "execution_count": 3,
   "metadata": {
    "execution": {
     "iopub.execute_input": "2021-01-05T16:32:00.409870Z",
     "iopub.status.busy": "2021-01-05T16:32:00.404645Z",
     "iopub.status.idle": "2021-01-05T16:32:05.410675Z",
     "shell.execute_reply": "2021-01-05T16:32:05.412173Z"
    },
    "papermill": {
     "duration": 5.028782,
     "end_time": "2021-01-05T16:32:05.412363",
     "exception": false,
     "start_time": "2021-01-05T16:32:00.383581",
     "status": "completed"
    },
    "tags": []
   },
   "outputs": [
    {
     "name": "stdout",
     "output_type": "stream",
     "text": [
      "max_depth: 6, min_child_weight: 5\n"
     ]
    }
   ],
   "source": [
    "# -----------------------------------\n",
    "# モデルチューニング\n",
    "# -----------------------------------\n",
    "from xgboost import XGBClassifier\n",
    "from sklearn.metrics import log_loss, accuracy_score\n",
    "from sklearn.model_selection import KFold\n",
    "\n",
    "import itertools\n",
    "\n",
    "# チューニング候補とするパラメータを準備する\n",
    "param_space = {\n",
    "    'max_depth': [3,4,5,6,7],\n",
    "    'min_child_weight': [1,2,3,4,5]\n",
    "}\n",
    "\n",
    "# 探索するハイパーパラメータの組み合わせ\n",
    "param_combinations = itertools.product(param_space['max_depth'], param_space['min_child_weight'])\n",
    "\n",
    "# 各パラメータの組み合わせ、それに対するスコアを保存するリスト\n",
    "params = []\n",
    "scores = []\n",
    "\n",
    "# 各パラメータの組み合わせごとに、クロスバリデーションで評価を行う\n",
    "for max_depth, min_child_weight in param_combinations:\n",
    "\n",
    "    score_folds = []\n",
    "    # クロスバリデーションを行う\n",
    "    # 学習データを4つに分割し、うち1つをバリデーションデータとすることを、バリデーションデータを変えて繰り返す\n",
    "    kf = KFold(n_splits=10, shuffle=True, random_state=123456)\n",
    "    \n",
    "    for tr_idx, va_idx in kf.split(train_x2):\n",
    "        # 学習データを学習データとバリデーションデータに分ける\n",
    "        tr_x, va_x = train_x2.iloc[tr_idx], train_x2.iloc[va_idx]\n",
    "        tr_y, va_y = train_y.iloc[tr_idx], train_y.iloc[va_idx]\n",
    "\n",
    "        # モデルの学習を行う\n",
    "        model = XGBClassifier(n_estimators=10, random_state=71,\n",
    "                              max_depth=max_depth, min_child_weight=min_child_weight)\n",
    "        model.fit(tr_x, tr_y)\n",
    "\n",
    "        # バリデーションデータでのスコアを計算し、保存する\n",
    "        va_pred = model.predict_proba(va_x)[:, 1]\n",
    "        logloss = log_loss(va_y, va_pred)\n",
    "        score_folds.append(logloss)\n",
    "  \n",
    "    # 各foldのスコアを平均する\n",
    "    score_mean = np.mean(score_folds)\n",
    "\n",
    "    # パラメータの組み合わせ、それに対するスコアを保存する\n",
    "    params.append((max_depth, min_child_weight))\n",
    "    scores.append(score_mean)\n",
    "    \n",
    "# 最もスコアが良いものをベストなパラメータとする\n",
    "best_idx = np.argsort(scores)[0]\n",
    "best_param = params[best_idx]\n",
    "print(f'max_depth: {best_param[0]}, min_child_weight: {best_param[1]}')\n",
    "\n",
    "#モデルの学習とparameterの最適化を同時に行われる（２重のfor文）\n",
    "#各parameterの比較の間もモデルの学習は続く"
   ]
  },
  {
   "cell_type": "code",
   "execution_count": 4,
   "metadata": {
    "execution": {
     "iopub.execute_input": "2021-01-05T16:32:05.448433Z",
     "iopub.status.busy": "2021-01-05T16:32:05.447487Z",
     "iopub.status.idle": "2021-01-05T16:32:05.451737Z",
     "shell.execute_reply": "2021-01-05T16:32:05.452493Z"
    },
    "papermill": {
     "duration": 0.026009,
     "end_time": "2021-01-05T16:32:05.452676",
     "exception": false,
     "start_time": "2021-01-05T16:32:05.426667",
     "status": "completed"
    },
    "tags": []
   },
   "outputs": [
    {
     "data": {
      "text/plain": [
       "[0.42080325873836066,\n",
       " 0.42106671122520156,\n",
       " 0.4238107197442454,\n",
       " 0.4225077834574694,\n",
       " 0.42275288123363036,\n",
       " 0.42279843135407835,\n",
       " 0.42218378673355267,\n",
       " 0.419502918200193,\n",
       " 0.4216398805933313,\n",
       " 0.42500555549342456,\n",
       " 0.4278397466389744,\n",
       " 0.42507434628736435,\n",
       " 0.4219275348092174,\n",
       " 0.42061180808594195,\n",
       " 0.4228948280392924,\n",
       " 0.43322715852976995,\n",
       " 0.42957339358459057,\n",
       " 0.4237644432626488,\n",
       " 0.4227260139402695,\n",
       " 0.4174966352982691,\n",
       " 0.43436869576312925,\n",
       " 0.43233899256491226,\n",
       " 0.4214685529059313,\n",
       " 0.42244982808865555,\n",
       " 0.421168736646489]"
      ]
     },
     "execution_count": 4,
     "metadata": {},
     "output_type": "execute_result"
    }
   ],
   "source": [
    "scores\n",
    "#最小値が最も良い"
   ]
  },
  {
   "cell_type": "code",
   "execution_count": 5,
   "metadata": {
    "execution": {
     "iopub.execute_input": "2021-01-05T16:32:05.488158Z",
     "iopub.status.busy": "2021-01-05T16:32:05.487245Z",
     "iopub.status.idle": "2021-01-05T16:32:05.490557Z",
     "shell.execute_reply": "2021-01-05T16:32:05.491334Z"
    },
    "papermill": {
     "duration": 0.024587,
     "end_time": "2021-01-05T16:32:05.491486",
     "exception": false,
     "start_time": "2021-01-05T16:32:05.466899",
     "status": "completed"
    },
    "tags": []
   },
   "outputs": [
    {
     "data": {
      "text/plain": [
       "[(3, 1),\n",
       " (3, 2),\n",
       " (3, 3),\n",
       " (3, 4),\n",
       " (3, 5),\n",
       " (4, 1),\n",
       " (4, 2),\n",
       " (4, 3),\n",
       " (4, 4),\n",
       " (4, 5),\n",
       " (5, 1),\n",
       " (5, 2),\n",
       " (5, 3),\n",
       " (5, 4),\n",
       " (5, 5),\n",
       " (6, 1),\n",
       " (6, 2),\n",
       " (6, 3),\n",
       " (6, 4),\n",
       " (6, 5),\n",
       " (7, 1),\n",
       " (7, 2),\n",
       " (7, 3),\n",
       " (7, 4),\n",
       " (7, 5)]"
      ]
     },
     "execution_count": 5,
     "metadata": {},
     "output_type": "execute_result"
    }
   ],
   "source": [
    "params\n",
    "#組み合わせは25通り"
   ]
  },
  {
   "cell_type": "code",
   "execution_count": 6,
   "metadata": {
    "execution": {
     "iopub.execute_input": "2021-01-05T16:32:05.529170Z",
     "iopub.status.busy": "2021-01-05T16:32:05.528232Z",
     "iopub.status.idle": "2021-01-05T16:32:05.646510Z",
     "shell.execute_reply": "2021-01-05T16:32:05.647366Z"
    },
    "papermill": {
     "duration": 0.141087,
     "end_time": "2021-01-05T16:32:05.647562",
     "exception": false,
     "start_time": "2021-01-05T16:32:05.506475",
     "status": "completed"
    },
    "tags": []
   },
   "outputs": [],
   "source": [
    "# -----------------------------------\n",
    "# predict\n",
    "# -----------------------------------\n",
    "\n",
    "from sklearn.linear_model import LogisticRegression\n",
    "\n",
    "# xgboostモデル\n",
    "model_xgb = XGBClassifier(n_estimators=20, random_state=71, max_depth=best_param[0], min_child_weight=best_param[1])\n",
    "model_xgb.fit(train_x2, train_y)\n",
    "pred_xgb = model_xgb.predict_proba(test_x2)[:, 1]\n"
   ]
  },
  {
   "cell_type": "code",
   "execution_count": 7,
   "metadata": {
    "execution": {
     "iopub.execute_input": "2021-01-05T16:32:05.685258Z",
     "iopub.status.busy": "2021-01-05T16:32:05.684214Z",
     "iopub.status.idle": "2021-01-05T16:32:05.923289Z",
     "shell.execute_reply": "2021-01-05T16:32:05.922540Z"
    },
    "papermill": {
     "duration": 0.260341,
     "end_time": "2021-01-05T16:32:05.923421",
     "exception": false,
     "start_time": "2021-01-05T16:32:05.663080",
     "status": "completed"
    },
    "tags": []
   },
   "outputs": [],
   "source": [
    "# -----------------------------------\n",
    "# アンサンブル\n",
    "# -----------------------------------\n",
    "\n",
    "# 予測値の加重平均をとる\n",
    "pred3 = pred_xgb\n",
    "pred_label3 = np.where(pred3 > 0.5, 1, 0)\n",
    "\n",
    "# 提出用ファイルの作成\n",
    "submission3 = pd.DataFrame({'PassengerId': test['PassengerId'], 'Survived': pred_label3})\n",
    "submission3.to_csv('submission_third.csv', index=False)\n"
   ]
  },
  {
   "cell_type": "code",
   "execution_count": null,
   "metadata": {
    "papermill": {
     "duration": 0.012866,
     "end_time": "2021-01-05T16:32:05.949881",
     "exception": false,
     "start_time": "2021-01-05T16:32:05.937015",
     "status": "completed"
    },
    "tags": []
   },
   "outputs": [],
   "source": []
  },
  {
   "cell_type": "code",
   "execution_count": null,
   "metadata": {
    "papermill": {
     "duration": 0.012946,
     "end_time": "2021-01-05T16:32:05.976108",
     "exception": false,
     "start_time": "2021-01-05T16:32:05.963162",
     "status": "completed"
    },
    "tags": []
   },
   "outputs": [],
   "source": []
  }
 ],
 "metadata": {
  "kernelspec": {
   "display_name": "Python 3",
   "language": "python",
   "name": "python3"
  },
  "language_info": {
   "codemirror_mode": {
    "name": "ipython",
    "version": 3
   },
   "file_extension": ".py",
   "mimetype": "text/x-python",
   "name": "python",
   "nbconvert_exporter": "python",
   "pygments_lexer": "ipython3",
   "version": "3.7.6"
  },
  "papermill": {
   "duration": 11.931665,
   "end_time": "2021-01-05T16:32:06.100528",
   "environment_variables": {},
   "exception": null,
   "input_path": "__notebook__.ipynb",
   "output_path": "__notebook__.ipynb",
   "parameters": {},
   "start_time": "2021-01-05T16:31:54.168863",
   "version": "2.1.0"
  }
 },
 "nbformat": 4,
 "nbformat_minor": 4
}
