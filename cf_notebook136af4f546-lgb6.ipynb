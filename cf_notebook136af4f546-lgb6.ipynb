{
 "cells": [
  {
   "cell_type": "code",
   "execution_count": 1,
   "metadata": {
    "_cell_guid": "b1076dfc-b9ad-4769-8c92-a6c4dae69d19",
    "_uuid": "8f2839f25d086af736a60e9eeb907d3b93b6e0e5",
    "execution": {
     "iopub.execute_input": "2020-11-22T16:28:07.219338Z",
     "iopub.status.busy": "2020-11-22T16:28:07.218453Z",
     "iopub.status.idle": "2020-11-22T16:28:07.225508Z",
     "shell.execute_reply": "2020-11-22T16:28:07.224501Z"
    },
    "papermill": {
     "duration": 0.047889,
     "end_time": "2020-11-22T16:28:07.225702",
     "exception": false,
     "start_time": "2020-11-22T16:28:07.177813",
     "status": "completed"
    },
    "tags": []
   },
   "outputs": [
    {
     "name": "stdout",
     "output_type": "stream",
     "text": [
      "/kaggle/input/titanic/gender_submission.csv\n",
      "/kaggle/input/titanic/test.csv\n",
      "/kaggle/input/titanic/train.csv\n"
     ]
    }
   ],
   "source": [
    "import numpy as np\n",
    "import pandas as pd\n",
    "\n",
    "import os\n",
    "for dirname, _, filenames in os.walk('/kaggle/input'):\n",
    "    for filename in filenames:\n",
    "        print(os.path.join(dirname, filename))"
   ]
  },
  {
   "cell_type": "code",
   "execution_count": 2,
   "metadata": {
    "_cell_guid": "79c7e3d0-c299-4dcb-8224-4455121ee9b0",
    "_uuid": "d629ff2d2480ee46fbb7e2d37f6b5fab8052498a",
    "execution": {
     "iopub.execute_input": "2020-11-22T16:28:07.299966Z",
     "iopub.status.busy": "2020-11-22T16:28:07.299148Z",
     "iopub.status.idle": "2020-11-22T16:28:09.616441Z",
     "shell.execute_reply": "2020-11-22T16:28:09.615629Z"
    },
    "papermill": {
     "duration": 2.357617,
     "end_time": "2020-11-22T16:28:09.616604",
     "exception": false,
     "start_time": "2020-11-22T16:28:07.258987",
     "status": "completed"
    },
    "tags": []
   },
   "outputs": [],
   "source": [
    "import random\n",
    "import time\n",
    "import lightgbm as lgb\n",
    "import matplotlib.pyplot as plt\n",
    "import seaborn as sns\n",
    "import xgboost as xgb\n",
    "\n",
    "from contextlib import contextmanager\n",
    "from pathlib import Path\n",
    "from typing import Optional\n",
    "from tqdm.notebook import tqdm\n",
    "from sklearn.metrics import average_precision_score\n",
    "from sklearn.preprocessing import LabelEncoder\n",
    "from sklearn.model_selection import StratifiedKFold\n",
    "\n",
    "import math"
   ]
  },
  {
   "cell_type": "code",
   "execution_count": null,
   "metadata": {
    "papermill": {
     "duration": 0.032386,
     "end_time": "2020-11-22T16:28:09.681669",
     "exception": false,
     "start_time": "2020-11-22T16:28:09.649283",
     "status": "completed"
    },
    "tags": []
   },
   "outputs": [],
   "source": []
  },
  {
   "cell_type": "code",
   "execution_count": 3,
   "metadata": {
    "execution": {
     "iopub.execute_input": "2020-11-22T16:28:09.756352Z",
     "iopub.status.busy": "2020-11-22T16:28:09.755387Z",
     "iopub.status.idle": "2020-11-22T16:28:09.758937Z",
     "shell.execute_reply": "2020-11-22T16:28:09.758158Z"
    },
    "papermill": {
     "duration": 0.044116,
     "end_time": "2020-11-22T16:28:09.759062",
     "exception": false,
     "start_time": "2020-11-22T16:28:09.714946",
     "status": "completed"
    },
    "tags": []
   },
   "outputs": [],
   "source": [
    "@contextmanager\n",
    "def timer(name: str):\n",
    "    t0 = time.time()\n",
    "    print(f\"[{name}] start\")\n",
    "    yield\n",
    "    msg = f\"[{name}] done in {time.time() - t0:.0f} s\"\n",
    "    print(msg)\n",
    "    \n",
    "    \n",
    "def set_seed(seed=42):\n",
    "    random.seed(seed)\n",
    "    os.environ[\"PYTHONHASHSEED\"] = str(seed)\n",
    "    np.random.seed(seed)"
   ]
  },
  {
   "cell_type": "code",
   "execution_count": 4,
   "metadata": {
    "execution": {
     "iopub.execute_input": "2020-11-22T16:28:09.830886Z",
     "iopub.status.busy": "2020-11-22T16:28:09.830082Z",
     "iopub.status.idle": "2020-11-22T16:28:10.800889Z",
     "shell.execute_reply": "2020-11-22T16:28:10.800179Z"
    },
    "papermill": {
     "duration": 1.009048,
     "end_time": "2020-11-22T16:28:10.801037",
     "exception": false,
     "start_time": "2020-11-22T16:28:09.791989",
     "status": "completed"
    },
    "tags": []
   },
   "outputs": [],
   "source": [
    "from pandas_profiling import ProfileReport\n",
    "from matplotlib_venn import venn2\n",
    "sns.set_style('darkgrid')"
   ]
  },
  {
   "cell_type": "code",
   "execution_count": 5,
   "metadata": {
    "execution": {
     "iopub.execute_input": "2020-11-22T16:28:10.879850Z",
     "iopub.status.busy": "2020-11-22T16:28:10.878780Z",
     "iopub.status.idle": "2020-11-22T16:28:10.882642Z",
     "shell.execute_reply": "2020-11-22T16:28:10.881914Z"
    },
    "papermill": {
     "duration": 0.048434,
     "end_time": "2020-11-22T16:28:10.882777",
     "exception": false,
     "start_time": "2020-11-22T16:28:10.834343",
     "status": "completed"
    },
    "tags": []
   },
   "outputs": [],
   "source": [
    "INPUT_DIR = '../input/titanic'\n",
    "OUTPUT_DIR = './'\n",
    "os.makedirs(OUTPUT_DIR, exist_ok=True)"
   ]
  },
  {
   "cell_type": "code",
   "execution_count": 6,
   "metadata": {
    "execution": {
     "iopub.execute_input": "2020-11-22T16:28:10.956408Z",
     "iopub.status.busy": "2020-11-22T16:28:10.955651Z",
     "iopub.status.idle": "2020-11-22T16:28:10.974835Z",
     "shell.execute_reply": "2020-11-22T16:28:10.974034Z"
    },
    "papermill": {
     "duration": 0.058346,
     "end_time": "2020-11-22T16:28:10.974964",
     "exception": false,
     "start_time": "2020-11-22T16:28:10.916618",
     "status": "completed"
    },
    "tags": []
   },
   "outputs": [],
   "source": [
    "train_df = pd.read_csv(\"../input/titanic/train.csv\")\n",
    "test_df = pd.read_csv(\"../input/titanic/test.csv\")"
   ]
  },
  {
   "cell_type": "code",
   "execution_count": 7,
   "metadata": {
    "execution": {
     "iopub.execute_input": "2020-11-22T16:28:11.060942Z",
     "iopub.status.busy": "2020-11-22T16:28:11.060113Z",
     "iopub.status.idle": "2020-11-22T16:28:11.065456Z",
     "shell.execute_reply": "2020-11-22T16:28:11.064705Z"
    },
    "papermill": {
     "duration": 0.055937,
     "end_time": "2020-11-22T16:28:11.065606",
     "exception": false,
     "start_time": "2020-11-22T16:28:11.009669",
     "status": "completed"
    },
    "tags": []
   },
   "outputs": [],
   "source": [
    "whole_df=pd.concat([train_df, test_df], ignore_index=True)"
   ]
  },
  {
   "cell_type": "code",
   "execution_count": 8,
   "metadata": {
    "execution": {
     "iopub.execute_input": "2020-11-22T16:28:11.140996Z",
     "iopub.status.busy": "2020-11-22T16:28:11.139811Z",
     "iopub.status.idle": "2020-11-22T16:28:11.143306Z",
     "shell.execute_reply": "2020-11-22T16:28:11.142545Z"
    },
    "papermill": {
     "duration": 0.042333,
     "end_time": "2020-11-22T16:28:11.143435",
     "exception": false,
     "start_time": "2020-11-22T16:28:11.101102",
     "status": "completed"
    },
    "tags": []
   },
   "outputs": [],
   "source": [
    "#train_df.dtypes"
   ]
  },
  {
   "cell_type": "code",
   "execution_count": 9,
   "metadata": {
    "execution": {
     "iopub.execute_input": "2020-11-22T16:28:11.215905Z",
     "iopub.status.busy": "2020-11-22T16:28:11.214962Z",
     "iopub.status.idle": "2020-11-22T16:28:11.218361Z",
     "shell.execute_reply": "2020-11-22T16:28:11.217771Z"
    },
    "papermill": {
     "duration": 0.041512,
     "end_time": "2020-11-22T16:28:11.218498",
     "exception": false,
     "start_time": "2020-11-22T16:28:11.176986",
     "status": "completed"
    },
    "tags": []
   },
   "outputs": [],
   "source": [
    "#report = ProfileReport(train_df)\n",
    "#report.to_file(os.path.join(OUTPUT_DIR, 'train_report.html'))"
   ]
  },
  {
   "cell_type": "code",
   "execution_count": 10,
   "metadata": {
    "execution": {
     "iopub.execute_input": "2020-11-22T16:28:11.291739Z",
     "iopub.status.busy": "2020-11-22T16:28:11.290766Z",
     "iopub.status.idle": "2020-11-22T16:28:11.293980Z",
     "shell.execute_reply": "2020-11-22T16:28:11.293205Z"
    },
    "papermill": {
     "duration": 0.041676,
     "end_time": "2020-11-22T16:28:11.294124",
     "exception": false,
     "start_time": "2020-11-22T16:28:11.252448",
     "status": "completed"
    },
    "tags": []
   },
   "outputs": [],
   "source": [
    "#report = ProfileReport(test_df)\n",
    "#report.to_file(os.path.join(OUTPUT_DIR, 'test_report.html'))"
   ]
  },
  {
   "cell_type": "code",
   "execution_count": 11,
   "metadata": {
    "execution": {
     "iopub.execute_input": "2020-11-22T16:28:11.367514Z",
     "iopub.status.busy": "2020-11-22T16:28:11.366449Z",
     "iopub.status.idle": "2020-11-22T16:28:11.369932Z",
     "shell.execute_reply": "2020-11-22T16:28:11.369303Z"
    },
    "papermill": {
     "duration": 0.041861,
     "end_time": "2020-11-22T16:28:11.370078",
     "exception": false,
     "start_time": "2020-11-22T16:28:11.328217",
     "status": "completed"
    },
    "tags": []
   },
   "outputs": [],
   "source": [
    "#report = ProfileReport(whole_df)\n",
    "#report.to_file(os.path.join(OUTPUT_DIR, 'whole_report.html'))"
   ]
  },
  {
   "cell_type": "code",
   "execution_count": 12,
   "metadata": {
    "execution": {
     "iopub.execute_input": "2020-11-22T16:28:11.443373Z",
     "iopub.status.busy": "2020-11-22T16:28:11.442506Z",
     "iopub.status.idle": "2020-11-22T16:28:11.446095Z",
     "shell.execute_reply": "2020-11-22T16:28:11.445415Z"
    },
    "papermill": {
     "duration": 0.041863,
     "end_time": "2020-11-22T16:28:11.446224",
     "exception": false,
     "start_time": "2020-11-22T16:28:11.404361",
     "status": "completed"
    },
    "tags": []
   },
   "outputs": [],
   "source": [
    "#!pip install sweetviz\n",
    "#import sweetviz as sv"
   ]
  },
  {
   "cell_type": "code",
   "execution_count": 13,
   "metadata": {
    "execution": {
     "iopub.execute_input": "2020-11-22T16:28:11.520854Z",
     "iopub.status.busy": "2020-11-22T16:28:11.519788Z",
     "iopub.status.idle": "2020-11-22T16:28:11.522617Z",
     "shell.execute_reply": "2020-11-22T16:28:11.523243Z"
    },
    "papermill": {
     "duration": 0.042432,
     "end_time": "2020-11-22T16:28:11.523402",
     "exception": false,
     "start_time": "2020-11-22T16:28:11.480970",
     "status": "completed"
    },
    "tags": []
   },
   "outputs": [],
   "source": [
    "#compare_report = sv.compare([train_df, 'Training Data'],\n",
    "#                            [test_df, 'Test Data'])\n",
    "#compare_report.show_html('./compare.html')"
   ]
  },
  {
   "cell_type": "code",
   "execution_count": null,
   "metadata": {
    "papermill": {
     "duration": 0.040178,
     "end_time": "2020-11-22T16:28:11.599819",
     "exception": false,
     "start_time": "2020-11-22T16:28:11.559641",
     "status": "completed"
    },
    "tags": []
   },
   "outputs": [],
   "source": []
  },
  {
   "cell_type": "code",
   "execution_count": 14,
   "metadata": {
    "execution": {
     "iopub.execute_input": "2020-11-22T16:28:11.692327Z",
     "iopub.status.busy": "2020-11-22T16:28:11.691155Z",
     "iopub.status.idle": "2020-11-22T16:28:11.695773Z",
     "shell.execute_reply": "2020-11-22T16:28:11.694859Z"
    },
    "papermill": {
     "duration": 0.058471,
     "end_time": "2020-11-22T16:28:11.695970",
     "exception": false,
     "start_time": "2020-11-22T16:28:11.637499",
     "status": "completed"
    },
    "tags": []
   },
   "outputs": [],
   "source": [
    "\n",
    "def create_sex_value(input_df):\n",
    "    use_columns = ['Sex']  \n",
    "    \n",
    "    td=[]\n",
    "    for i in range(0, len(input_df)):\n",
    "        if input_df['Sex'][i] == 'male':\n",
    "            td.append(0)\n",
    "        else:\n",
    "            td.append(1)   \n",
    "    sex_value = pd.DataFrame(td, columns=['sex_value'])\n",
    "              \n",
    "    return sex_value.copy()\n"
   ]
  },
  {
   "cell_type": "code",
   "execution_count": 15,
   "metadata": {
    "execution": {
     "iopub.execute_input": "2020-11-22T16:28:11.784795Z",
     "iopub.status.busy": "2020-11-22T16:28:11.783648Z",
     "iopub.status.idle": "2020-11-22T16:28:11.787572Z",
     "shell.execute_reply": "2020-11-22T16:28:11.786900Z"
    },
    "papermill": {
     "duration": 0.046622,
     "end_time": "2020-11-22T16:28:11.787698",
     "exception": false,
     "start_time": "2020-11-22T16:28:11.741076",
     "status": "completed"
    },
    "tags": []
   },
   "outputs": [],
   "source": [
    "\n",
    "def create_family_size(input_df):\n",
    "    use_columns = ['SibSp','Parch']  \n",
    "    \n",
    "    td=[]\n",
    "    for i in range(0, len(input_df)):\n",
    "\n",
    "        td.append((input_df['SibSp'][i]+input_df['Parch'][i]+1)/10)          \n",
    "        \n",
    "    family_size = pd.DataFrame(td, columns=['family_size'])\n",
    "              \n",
    "    return family_size.copy()\n"
   ]
  },
  {
   "cell_type": "code",
   "execution_count": 16,
   "metadata": {
    "execution": {
     "iopub.execute_input": "2020-11-22T16:28:11.865921Z",
     "iopub.status.busy": "2020-11-22T16:28:11.865019Z",
     "iopub.status.idle": "2020-11-22T16:28:11.868290Z",
     "shell.execute_reply": "2020-11-22T16:28:11.867684Z"
    },
    "papermill": {
     "duration": 0.045666,
     "end_time": "2020-11-22T16:28:11.868414",
     "exception": false,
     "start_time": "2020-11-22T16:28:11.822748",
     "status": "completed"
    },
    "tags": []
   },
   "outputs": [],
   "source": [
    "def create_sibsp_size(input_df):\n",
    "    use_columns = ['SibSp']  \n",
    "    \n",
    "    td=[]\n",
    "    for i in range(0, len(input_df)):\n",
    "\n",
    "        td.append(input_df['SibSp'][i]/4)          \n",
    "        \n",
    "    sibsp_size = pd.DataFrame(td, columns=['sibsp_size'])\n",
    "              \n",
    "    return sibsp_size.copy()"
   ]
  },
  {
   "cell_type": "code",
   "execution_count": 17,
   "metadata": {
    "execution": {
     "iopub.execute_input": "2020-11-22T16:28:11.947149Z",
     "iopub.status.busy": "2020-11-22T16:28:11.946139Z",
     "iopub.status.idle": "2020-11-22T16:28:11.948983Z",
     "shell.execute_reply": "2020-11-22T16:28:11.949531Z"
    },
    "papermill": {
     "duration": 0.046165,
     "end_time": "2020-11-22T16:28:11.949715",
     "exception": false,
     "start_time": "2020-11-22T16:28:11.903550",
     "status": "completed"
    },
    "tags": []
   },
   "outputs": [],
   "source": [
    "def create_parch_size(input_df):\n",
    "    use_columns = ['Parch']  \n",
    "    \n",
    "    td=[]\n",
    "    for i in range(0, len(input_df)):\n",
    "\n",
    "        td.append(input_df['Parch'][i]/4)          \n",
    "        \n",
    "    parch_size = pd.DataFrame(td, columns=['parch_size'])\n",
    "              \n",
    "    return parch_size.copy()"
   ]
  },
  {
   "cell_type": "code",
   "execution_count": 18,
   "metadata": {
    "execution": {
     "iopub.execute_input": "2020-11-22T16:28:12.035856Z",
     "iopub.status.busy": "2020-11-22T16:28:12.034906Z",
     "iopub.status.idle": "2020-11-22T16:28:12.038738Z",
     "shell.execute_reply": "2020-11-22T16:28:12.038089Z"
    },
    "papermill": {
     "duration": 0.05315,
     "end_time": "2020-11-22T16:28:12.038923",
     "exception": false,
     "start_time": "2020-11-22T16:28:11.985773",
     "status": "completed"
    },
    "tags": []
   },
   "outputs": [],
   "source": [
    "\n",
    "def create_embarked_value(input_df):\n",
    "    use_columns = ['Embarked']  \n",
    "    \n",
    "    td=[]\n",
    "    for i in range(0, len(input_df)):\n",
    "\n",
    "        if input_df['Embarked'][i]=='S':\n",
    "            td.append(1)          \n",
    "        elif input_df['Embarked'][i]=='Q':\n",
    "            td.append(0.6)          \n",
    "        elif input_df['Embarked'][i]=='C':\n",
    "            td.append(0.2)          \n",
    "        else:\n",
    "            td.append(1)           \n",
    "        \n",
    "    embarked_value = pd.DataFrame(td, columns=['embarked_value'])\n",
    "              \n",
    "    return embarked_value.copy()"
   ]
  },
  {
   "cell_type": "code",
   "execution_count": 19,
   "metadata": {
    "execution": {
     "iopub.execute_input": "2020-11-22T16:28:12.121434Z",
     "iopub.status.busy": "2020-11-22T16:28:12.120635Z",
     "iopub.status.idle": "2020-11-22T16:28:12.123864Z",
     "shell.execute_reply": "2020-11-22T16:28:12.123223Z"
    },
    "papermill": {
     "duration": 0.049455,
     "end_time": "2020-11-22T16:28:12.123997",
     "exception": false,
     "start_time": "2020-11-22T16:28:12.074542",
     "status": "completed"
    },
    "tags": []
   },
   "outputs": [],
   "source": [
    "\n",
    "def create_fare_value(input_df):\n",
    "    use_columns = ['Fare']  \n",
    "    \n",
    "    td=[]\n",
    "    for i in range(0, len(input_df)):\n",
    "\n",
    "        td.append(input_df['Fare'][i]/100)         \n",
    "             \n",
    "    fare_value = pd.DataFrame(td, columns=['fare_value'])\n",
    "              \n",
    "    return fare_value.copy()"
   ]
  },
  {
   "cell_type": "code",
   "execution_count": 20,
   "metadata": {
    "execution": {
     "iopub.execute_input": "2020-11-22T16:28:12.204350Z",
     "iopub.status.busy": "2020-11-22T16:28:12.203469Z",
     "iopub.status.idle": "2020-11-22T16:28:12.206930Z",
     "shell.execute_reply": "2020-11-22T16:28:12.206250Z"
    },
    "papermill": {
     "duration": 0.046787,
     "end_time": "2020-11-22T16:28:12.207060",
     "exception": false,
     "start_time": "2020-11-22T16:28:12.160273",
     "status": "completed"
    },
    "tags": []
   },
   "outputs": [],
   "source": [
    "\n",
    "def create_age_value(input_df):\n",
    "    use_columns = ['Age']  \n",
    "    \n",
    "    td=[]\n",
    "    for i in range(0, len(input_df)):\n",
    "\n",
    "        td.append((input_df['Age'][i])/50)         \n",
    "             \n",
    "    age_value = pd.DataFrame(td, columns=['age_value'])\n",
    "              \n",
    "    return age_value.copy()"
   ]
  },
  {
   "cell_type": "code",
   "execution_count": 21,
   "metadata": {
    "execution": {
     "iopub.execute_input": "2020-11-22T16:28:12.289380Z",
     "iopub.status.busy": "2020-11-22T16:28:12.288614Z",
     "iopub.status.idle": "2020-11-22T16:28:12.292267Z",
     "shell.execute_reply": "2020-11-22T16:28:12.291499Z"
    },
    "papermill": {
     "duration": 0.049513,
     "end_time": "2020-11-22T16:28:12.292394",
     "exception": false,
     "start_time": "2020-11-22T16:28:12.242881",
     "status": "completed"
    },
    "tags": []
   },
   "outputs": [],
   "source": [
    "\n",
    "def create_pclass_value(input_df):\n",
    "    use_columns = ['Pclass']  \n",
    "    \n",
    "    td=[]\n",
    "    for i in range(0, len(input_df)):\n",
    "\n",
    "        if input_df['Pclass'][i]==3:\n",
    "            td.append(0)          \n",
    "        elif input_df['Pclass'][i]==2:\n",
    "            td.append(0.4)          \n",
    "        elif input_df['Pclass'][i]==1:\n",
    "            td.append(0.8)          \n",
    "        else:\n",
    "            td.append(0)       \n",
    "             \n",
    "    pclass_value = pd.DataFrame(td, columns=['pclass_value'])\n",
    "              \n",
    "    return pclass_value.copy()"
   ]
  },
  {
   "cell_type": "code",
   "execution_count": 22,
   "metadata": {
    "execution": {
     "iopub.execute_input": "2020-11-22T16:28:12.374836Z",
     "iopub.status.busy": "2020-11-22T16:28:12.372405Z",
     "iopub.status.idle": "2020-11-22T16:28:12.378432Z",
     "shell.execute_reply": "2020-11-22T16:28:12.377686Z"
    },
    "papermill": {
     "duration": 0.050338,
     "end_time": "2020-11-22T16:28:12.378578",
     "exception": false,
     "start_time": "2020-11-22T16:28:12.328240",
     "status": "completed"
    },
    "tags": []
   },
   "outputs": [],
   "source": [
    "def create_cabin_value(input_df):\n",
    "    use_columns = ['Cabin']  \n",
    "    \n",
    "    td=[]\n",
    "    for i in range(0, len(input_df)):\n",
    "        first = str(input_df['Cabin'][i])[0]\n",
    "        if first=='B':\n",
    "            td.append(0)          \n",
    "        elif first=='C':\n",
    "            td.append(0.2)        \n",
    "        elif first=='G':\n",
    "            td.append(0.4)          \n",
    "        elif first=='D':\n",
    "            td.append(0.6)        \n",
    "        elif first=='E':\n",
    "            td.append(0.8)  \n",
    "        else:\n",
    "            td.append(1)       \n",
    "             \n",
    "    cabin_value = pd.DataFrame(td, columns=['cabin_value'])\n",
    "              \n",
    "    return cabin_value.copy()"
   ]
  },
  {
   "cell_type": "code",
   "execution_count": null,
   "metadata": {
    "papermill": {
     "duration": 0.035592,
     "end_time": "2020-11-22T16:28:12.450087",
     "exception": false,
     "start_time": "2020-11-22T16:28:12.414495",
     "status": "completed"
    },
    "tags": []
   },
   "outputs": [],
   "source": []
  },
  {
   "cell_type": "code",
   "execution_count": 23,
   "metadata": {
    "execution": {
     "iopub.execute_input": "2020-11-22T16:28:12.531765Z",
     "iopub.status.busy": "2020-11-22T16:28:12.530936Z",
     "iopub.status.idle": "2020-11-22T16:28:12.534965Z",
     "shell.execute_reply": "2020-11-22T16:28:12.534271Z"
    },
    "papermill": {
     "duration": 0.049105,
     "end_time": "2020-11-22T16:28:12.535093",
     "exception": false,
     "start_time": "2020-11-22T16:28:12.485988",
     "status": "completed"
    },
    "tags": []
   },
   "outputs": [],
   "source": [
    "from contextlib import contextmanager\n",
    "from time import time\n",
    "\n",
    "@contextmanager\n",
    "def timer(logger=None, format_str='{:.3f}[s]', prefix=None, suffix=None):\n",
    "    if prefix: format_str = str(prefix) + format_str\n",
    "    if suffix: format_str = format_str + str(suffix)\n",
    "    start = time()\n",
    "    yield\n",
    "    d = time() - start\n",
    "    out_str = format_str.format(d)\n",
    "    if logger:\n",
    "        logger.info(out_str)\n",
    "    else:\n",
    "        print(out_str)"
   ]
  },
  {
   "cell_type": "code",
   "execution_count": 24,
   "metadata": {
    "execution": {
     "iopub.execute_input": "2020-11-22T16:28:12.618419Z",
     "iopub.status.busy": "2020-11-22T16:28:12.617343Z",
     "iopub.status.idle": "2020-11-22T16:28:12.620874Z",
     "shell.execute_reply": "2020-11-22T16:28:12.620201Z"
    },
    "papermill": {
     "duration": 0.049625,
     "end_time": "2020-11-22T16:28:12.620994",
     "exception": false,
     "start_time": "2020-11-22T16:28:12.571369",
     "status": "completed"
    },
    "tags": []
   },
   "outputs": [],
   "source": [
    "from tqdm import tqdm\n",
    "\n",
    "def to_feature(input_df):\n",
    "    processors = [\n",
    "        create_sex_value,\n",
    "        create_family_size,\n",
    "        create_sibsp_size,\n",
    "        create_parch_size,           \n",
    "        create_embarked_value,\n",
    "        create_fare_value,\n",
    "        create_age_value,\n",
    "        create_pclass_value,\n",
    "        create_cabin_value,\n",
    "    ]\n",
    "    \n",
    "    out_df = pd.DataFrame()\n",
    "    \n",
    "    for func in tqdm(processors, total=len(processors)):\n",
    "        with timer(prefix='create ' + func.__name__ + ' '):\n",
    "            _df = func(input_df)\n",
    "        \n",
    "        assert len(_df) == len(input_df), func.__name__\n",
    "        out_df = pd.concat([out_df, _df], axis=1)\n",
    "        \n",
    "    return out_df"
   ]
  },
  {
   "cell_type": "code",
   "execution_count": 25,
   "metadata": {
    "execution": {
     "iopub.execute_input": "2020-11-22T16:28:12.701189Z",
     "iopub.status.busy": "2020-11-22T16:28:12.700107Z",
     "iopub.status.idle": "2020-11-22T16:28:12.930056Z",
     "shell.execute_reply": "2020-11-22T16:28:12.930950Z"
    },
    "papermill": {
     "duration": 0.273685,
     "end_time": "2020-11-22T16:28:12.931119",
     "exception": false,
     "start_time": "2020-11-22T16:28:12.657434",
     "status": "completed"
    },
    "tags": []
   },
   "outputs": [
    {
     "name": "stderr",
     "output_type": "stream",
     "text": [
      "100%|██████████| 9/9 [00:00<00:00, 62.12it/s]\n",
      "100%|██████████| 9/9 [00:00<00:00, 122.17it/s]"
     ]
    },
    {
     "name": "stdout",
     "output_type": "stream",
     "text": [
      "create create_sex_value 0.013[s]\n",
      "create create_family_size 0.024[s]\n",
      "create create_sibsp_size 0.012[s]\n",
      "create create_parch_size 0.012[s]\n",
      "create create_embarked_value 0.016[s]\n",
      "create create_fare_value 0.013[s]\n",
      "create create_age_value 0.012[s]\n",
      "create create_pclass_value 0.020[s]\n",
      "create create_cabin_value 0.012[s]\n",
      "create create_sex_value 0.006[s]\n",
      "create create_family_size 0.011[s]\n",
      "create create_sibsp_size 0.006[s]\n",
      "create create_parch_size 0.006[s]\n",
      "create create_embarked_value 0.009[s]\n",
      "create create_fare_value 0.006[s]\n",
      "create create_age_value 0.006[s]\n",
      "create create_pclass_value 0.009[s]\n",
      "create create_cabin_value 0.006[s]\n"
     ]
    },
    {
     "name": "stderr",
     "output_type": "stream",
     "text": [
      "\n"
     ]
    }
   ],
   "source": [
    "train_feat_df = to_feature(train_df)\n",
    "test_feat_df = to_feature(test_df)"
   ]
  },
  {
   "cell_type": "code",
   "execution_count": 26,
   "metadata": {
    "execution": {
     "iopub.execute_input": "2020-11-22T16:28:13.021004Z",
     "iopub.status.busy": "2020-11-22T16:28:13.020197Z",
     "iopub.status.idle": "2020-11-22T16:28:13.396839Z",
     "shell.execute_reply": "2020-11-22T16:28:13.396090Z"
    },
    "papermill": {
     "duration": 0.426064,
     "end_time": "2020-11-22T16:28:13.396969",
     "exception": false,
     "start_time": "2020-11-22T16:28:12.970905",
     "status": "completed"
    },
    "tags": []
   },
   "outputs": [],
   "source": [
    "train_feat_df2 = pd.DataFrame(train_feat_df)\n",
    "train_feat_df2.to_csv('train_feat_df.csv')\n",
    "#train_feat_df2.to_csv('train_feat_df.csv', index=False, header=False)\n",
    "test_feat_df2 = pd.DataFrame(test_feat_df)\n",
    "test_feat_df2.to_csv('test_feat_df.csv')\n",
    "#test_feat_df2.to_csv('test_feat_df.csv', index=False, header=False)"
   ]
  },
  {
   "cell_type": "code",
   "execution_count": 27,
   "metadata": {
    "execution": {
     "iopub.execute_input": "2020-11-22T16:28:13.499162Z",
     "iopub.status.busy": "2020-11-22T16:28:13.498353Z",
     "iopub.status.idle": "2020-11-22T16:28:13.514380Z",
     "shell.execute_reply": "2020-11-22T16:28:13.513694Z"
    },
    "papermill": {
     "duration": 0.077728,
     "end_time": "2020-11-22T16:28:13.514504",
     "exception": false,
     "start_time": "2020-11-22T16:28:13.436776",
     "status": "completed"
    },
    "tags": []
   },
   "outputs": [
    {
     "data": {
      "text/html": [
       "<div>\n",
       "<style scoped>\n",
       "    .dataframe tbody tr th:only-of-type {\n",
       "        vertical-align: middle;\n",
       "    }\n",
       "\n",
       "    .dataframe tbody tr th {\n",
       "        vertical-align: top;\n",
       "    }\n",
       "\n",
       "    .dataframe thead th {\n",
       "        text-align: right;\n",
       "    }\n",
       "</style>\n",
       "<table border=\"1\" class=\"dataframe\">\n",
       "  <thead>\n",
       "    <tr style=\"text-align: right;\">\n",
       "      <th></th>\n",
       "      <th>sex_value</th>\n",
       "      <th>family_size</th>\n",
       "      <th>sibsp_size</th>\n",
       "      <th>parch_size</th>\n",
       "      <th>embarked_value</th>\n",
       "      <th>fare_value</th>\n",
       "      <th>age_value</th>\n",
       "      <th>pclass_value</th>\n",
       "      <th>cabin_value</th>\n",
       "    </tr>\n",
       "  </thead>\n",
       "  <tbody>\n",
       "    <tr>\n",
       "      <th>0</th>\n",
       "      <td>0</td>\n",
       "      <td>0.2</td>\n",
       "      <td>0.25</td>\n",
       "      <td>0.0</td>\n",
       "      <td>1.0</td>\n",
       "      <td>0.072500</td>\n",
       "      <td>0.44</td>\n",
       "      <td>0.0</td>\n",
       "      <td>1.0</td>\n",
       "    </tr>\n",
       "    <tr>\n",
       "      <th>1</th>\n",
       "      <td>1</td>\n",
       "      <td>0.2</td>\n",
       "      <td>0.25</td>\n",
       "      <td>0.0</td>\n",
       "      <td>0.2</td>\n",
       "      <td>0.712833</td>\n",
       "      <td>0.76</td>\n",
       "      <td>0.8</td>\n",
       "      <td>0.2</td>\n",
       "    </tr>\n",
       "    <tr>\n",
       "      <th>2</th>\n",
       "      <td>1</td>\n",
       "      <td>0.1</td>\n",
       "      <td>0.00</td>\n",
       "      <td>0.0</td>\n",
       "      <td>1.0</td>\n",
       "      <td>0.079250</td>\n",
       "      <td>0.52</td>\n",
       "      <td>0.0</td>\n",
       "      <td>1.0</td>\n",
       "    </tr>\n",
       "    <tr>\n",
       "      <th>3</th>\n",
       "      <td>1</td>\n",
       "      <td>0.2</td>\n",
       "      <td>0.25</td>\n",
       "      <td>0.0</td>\n",
       "      <td>1.0</td>\n",
       "      <td>0.531000</td>\n",
       "      <td>0.70</td>\n",
       "      <td>0.8</td>\n",
       "      <td>0.2</td>\n",
       "    </tr>\n",
       "    <tr>\n",
       "      <th>4</th>\n",
       "      <td>0</td>\n",
       "      <td>0.1</td>\n",
       "      <td>0.00</td>\n",
       "      <td>0.0</td>\n",
       "      <td>1.0</td>\n",
       "      <td>0.080500</td>\n",
       "      <td>0.70</td>\n",
       "      <td>0.0</td>\n",
       "      <td>1.0</td>\n",
       "    </tr>\n",
       "    <tr>\n",
       "      <th>...</th>\n",
       "      <td>...</td>\n",
       "      <td>...</td>\n",
       "      <td>...</td>\n",
       "      <td>...</td>\n",
       "      <td>...</td>\n",
       "      <td>...</td>\n",
       "      <td>...</td>\n",
       "      <td>...</td>\n",
       "      <td>...</td>\n",
       "    </tr>\n",
       "    <tr>\n",
       "      <th>886</th>\n",
       "      <td>0</td>\n",
       "      <td>0.1</td>\n",
       "      <td>0.00</td>\n",
       "      <td>0.0</td>\n",
       "      <td>1.0</td>\n",
       "      <td>0.130000</td>\n",
       "      <td>0.54</td>\n",
       "      <td>0.4</td>\n",
       "      <td>1.0</td>\n",
       "    </tr>\n",
       "    <tr>\n",
       "      <th>887</th>\n",
       "      <td>1</td>\n",
       "      <td>0.1</td>\n",
       "      <td>0.00</td>\n",
       "      <td>0.0</td>\n",
       "      <td>1.0</td>\n",
       "      <td>0.300000</td>\n",
       "      <td>0.38</td>\n",
       "      <td>0.8</td>\n",
       "      <td>0.0</td>\n",
       "    </tr>\n",
       "    <tr>\n",
       "      <th>888</th>\n",
       "      <td>1</td>\n",
       "      <td>0.4</td>\n",
       "      <td>0.25</td>\n",
       "      <td>0.5</td>\n",
       "      <td>1.0</td>\n",
       "      <td>0.234500</td>\n",
       "      <td>NaN</td>\n",
       "      <td>0.0</td>\n",
       "      <td>1.0</td>\n",
       "    </tr>\n",
       "    <tr>\n",
       "      <th>889</th>\n",
       "      <td>0</td>\n",
       "      <td>0.1</td>\n",
       "      <td>0.00</td>\n",
       "      <td>0.0</td>\n",
       "      <td>0.2</td>\n",
       "      <td>0.300000</td>\n",
       "      <td>0.52</td>\n",
       "      <td>0.8</td>\n",
       "      <td>0.2</td>\n",
       "    </tr>\n",
       "    <tr>\n",
       "      <th>890</th>\n",
       "      <td>0</td>\n",
       "      <td>0.1</td>\n",
       "      <td>0.00</td>\n",
       "      <td>0.0</td>\n",
       "      <td>0.6</td>\n",
       "      <td>0.077500</td>\n",
       "      <td>0.64</td>\n",
       "      <td>0.0</td>\n",
       "      <td>1.0</td>\n",
       "    </tr>\n",
       "  </tbody>\n",
       "</table>\n",
       "<p>891 rows × 9 columns</p>\n",
       "</div>"
      ],
      "text/plain": [
       "     sex_value  family_size  sibsp_size  parch_size  embarked_value  \\\n",
       "0            0          0.2        0.25         0.0             1.0   \n",
       "1            1          0.2        0.25         0.0             0.2   \n",
       "2            1          0.1        0.00         0.0             1.0   \n",
       "3            1          0.2        0.25         0.0             1.0   \n",
       "4            0          0.1        0.00         0.0             1.0   \n",
       "..         ...          ...         ...         ...             ...   \n",
       "886          0          0.1        0.00         0.0             1.0   \n",
       "887          1          0.1        0.00         0.0             1.0   \n",
       "888          1          0.4        0.25         0.5             1.0   \n",
       "889          0          0.1        0.00         0.0             0.2   \n",
       "890          0          0.1        0.00         0.0             0.6   \n",
       "\n",
       "     fare_value  age_value  pclass_value  cabin_value  \n",
       "0      0.072500       0.44           0.0          1.0  \n",
       "1      0.712833       0.76           0.8          0.2  \n",
       "2      0.079250       0.52           0.0          1.0  \n",
       "3      0.531000       0.70           0.8          0.2  \n",
       "4      0.080500       0.70           0.0          1.0  \n",
       "..          ...        ...           ...          ...  \n",
       "886    0.130000       0.54           0.4          1.0  \n",
       "887    0.300000       0.38           0.8          0.0  \n",
       "888    0.234500        NaN           0.0          1.0  \n",
       "889    0.300000       0.52           0.8          0.2  \n",
       "890    0.077500       0.64           0.0          1.0  \n",
       "\n",
       "[891 rows x 9 columns]"
      ]
     },
     "execution_count": 27,
     "metadata": {},
     "output_type": "execute_result"
    }
   ],
   "source": [
    "train_feat_df"
   ]
  },
  {
   "cell_type": "code",
   "execution_count": 28,
   "metadata": {
    "execution": {
     "iopub.execute_input": "2020-11-22T16:28:13.611439Z",
     "iopub.status.busy": "2020-11-22T16:28:13.606159Z",
     "iopub.status.idle": "2020-11-22T16:28:13.619257Z",
     "shell.execute_reply": "2020-11-22T16:28:13.618366Z"
    },
    "papermill": {
     "duration": 0.064234,
     "end_time": "2020-11-22T16:28:13.619393",
     "exception": false,
     "start_time": "2020-11-22T16:28:13.555159",
     "status": "completed"
    },
    "tags": []
   },
   "outputs": [],
   "source": [
    "from sklearn.metrics import average_precision_score\n",
    "import lightgbm as lgbm\n",
    "\n",
    "def pr_auc(y_true, y_pred):\n",
    "\n",
    "    score = average_precision_score(y_true, y_pred)\n",
    "    return \"pr_auc\", score, True\n",
    "\n",
    "def fit_lgbm(X, y, cv, params: dict=None, verbose=100):\n",
    "\n",
    "    if params is None:\n",
    "        params = {}\n",
    "\n",
    "    models = []\n",
    "\n",
    "    oof_pred = np.zeros_like(y, dtype=np.float)\n",
    "\n",
    "    for i, (idx_train, idx_valid) in enumerate(cv): \n",
    "\n",
    "        x_train, y_train = X[idx_train], y[idx_train]\n",
    "        x_valid, y_valid = X[idx_valid], y[idx_valid]\n",
    "\n",
    "        clf = lgbm.LGBMClassifier(**params)\n",
    "        \n",
    "        with timer(prefix='fit fold={} '.format(i + 1)):\n",
    "            clf.fit(x_train, y_train, \n",
    "                    eval_set=[(x_valid, y_valid)],  \n",
    "                    early_stopping_rounds=verbose, \n",
    "                    eval_metric=pr_auc,\n",
    "                    verbose=verbose)\n",
    "\n",
    "        pred_i = clf.predict_proba(x_valid)[:, 1]\n",
    "        oof_pred[idx_valid] = pred_i\n",
    "        models.append(clf)\n",
    "\n",
    "        print(f'Fold {i} PR-AUC: {average_precision_score(y_valid, pred_i):.4f}')\n",
    "\n",
    "    score = average_precision_score(y, oof_pred)\n",
    "    print('FINISHED \\ whole score: {:.4f}'.format(score))\n",
    "    return oof_pred, models        "
   ]
  },
  {
   "cell_type": "code",
   "execution_count": 29,
   "metadata": {
    "execution": {
     "iopub.execute_input": "2020-11-22T16:28:13.713101Z",
     "iopub.status.busy": "2020-11-22T16:28:13.711475Z",
     "iopub.status.idle": "2020-11-22T16:28:13.715720Z",
     "shell.execute_reply": "2020-11-22T16:28:13.714834Z"
    },
    "papermill": {
     "duration": 0.054888,
     "end_time": "2020-11-22T16:28:13.715876",
     "exception": false,
     "start_time": "2020-11-22T16:28:13.660988",
     "status": "completed"
    },
    "tags": []
   },
   "outputs": [],
   "source": [
    "params = {\n",
    "    'objective': 'binary',\n",
    "    'learning_rate': 0.05,\n",
    "    'max_depth': 8,\n",
    "    'n_estimators': 10000000,\n",
    "    'colsample_bytree': .5,\n",
    "}\n",
    "\n",
    "y = train_df['Survived'].values"
   ]
  },
  {
   "cell_type": "code",
   "execution_count": 30,
   "metadata": {
    "execution": {
     "iopub.execute_input": "2020-11-22T16:28:13.808127Z",
     "iopub.status.busy": "2020-11-22T16:28:13.806653Z",
     "iopub.status.idle": "2020-11-22T16:28:13.811939Z",
     "shell.execute_reply": "2020-11-22T16:28:13.812579Z"
    },
    "papermill": {
     "duration": 0.055444,
     "end_time": "2020-11-22T16:28:13.812746",
     "exception": false,
     "start_time": "2020-11-22T16:28:13.757302",
     "status": "completed"
    },
    "tags": []
   },
   "outputs": [
    {
     "data": {
      "text/plain": [
       "0      0\n",
       "1      1\n",
       "2      1\n",
       "3      1\n",
       "4      0\n",
       "      ..\n",
       "886    0\n",
       "887    1\n",
       "888    0\n",
       "889    1\n",
       "890    0\n",
       "Name: Survived, Length: 891, dtype: int64"
      ]
     },
     "execution_count": 30,
     "metadata": {},
     "output_type": "execute_result"
    }
   ],
   "source": [
    "train_df['Survived']"
   ]
  },
  {
   "cell_type": "code",
   "execution_count": 31,
   "metadata": {
    "execution": {
     "iopub.execute_input": "2020-11-22T16:28:13.905850Z",
     "iopub.status.busy": "2020-11-22T16:28:13.904866Z",
     "iopub.status.idle": "2020-11-22T16:28:13.910723Z",
     "shell.execute_reply": "2020-11-22T16:28:13.909985Z"
    },
    "papermill": {
     "duration": 0.055679,
     "end_time": "2020-11-22T16:28:13.910855",
     "exception": false,
     "start_time": "2020-11-22T16:28:13.855176",
     "status": "completed"
    },
    "tags": []
   },
   "outputs": [
    {
     "data": {
      "text/plain": [
       "array([0, 1, 1, 1, 0, 0, 0, 0, 1, 1, 1, 1, 0, 0, 0, 1, 0, 1, 0, 1, 0, 1,\n",
       "       1, 1, 0, 1, 0, 0, 1, 0, 0, 1, 1, 0, 0, 0, 1, 0, 0, 1, 0, 0, 0, 1,\n",
       "       1, 0, 0, 1, 0, 0, 0, 0, 1, 1, 0, 1, 1, 0, 1, 0, 0, 1, 0, 0, 0, 1,\n",
       "       1, 0, 1, 0, 0, 0, 0, 0, 1, 0, 0, 0, 1, 1, 0, 1, 1, 0, 1, 1, 0, 0,\n",
       "       1, 0, 0, 0, 0, 0, 0, 0, 0, 1, 1, 0, 0, 0, 0, 0, 0, 0, 1, 1, 0, 1,\n",
       "       0, 0, 0, 0, 0, 0, 0, 0, 0, 0, 0, 0, 0, 1, 0, 1, 0, 1, 1, 0, 0, 0,\n",
       "       0, 1, 0, 0, 1, 0, 0, 0, 0, 1, 1, 0, 0, 0, 1, 0, 0, 0, 0, 1, 0, 0,\n",
       "       0, 0, 1, 0, 0, 0, 0, 1, 0, 0, 0, 1, 1, 0, 0, 0, 0, 0, 1, 0, 0, 0,\n",
       "       0, 0, 0, 0, 0, 0, 0, 1, 1, 0, 1, 1, 0, 0, 1, 0, 1, 1, 1, 1, 0, 0,\n",
       "       1, 0, 0, 0, 0, 0, 1, 0, 0, 1, 1, 1, 0, 1, 0, 0, 0, 1, 1, 0, 1, 0,\n",
       "       1, 0, 0, 0, 1, 0, 1, 0, 0, 0, 1, 0, 0, 1, 0, 0, 0, 1, 0, 0, 0, 1,\n",
       "       0, 0, 0, 0, 0, 1, 1, 0, 0, 0, 0, 0, 0, 1, 1, 1, 1, 1, 0, 1, 0, 0,\n",
       "       0, 0, 0, 1, 1, 1, 0, 1, 1, 0, 1, 1, 0, 0, 0, 1, 0, 0, 0, 1, 0, 0,\n",
       "       1, 0, 1, 1, 1, 1, 0, 0, 0, 0, 0, 0, 1, 1, 1, 1, 0, 1, 0, 1, 1, 1,\n",
       "       0, 1, 1, 1, 0, 0, 0, 1, 1, 0, 1, 1, 0, 0, 1, 1, 0, 1, 0, 1, 1, 1,\n",
       "       1, 0, 0, 0, 1, 0, 0, 1, 1, 0, 1, 1, 0, 0, 0, 1, 1, 1, 1, 0, 0, 0,\n",
       "       0, 0, 0, 0, 1, 0, 1, 1, 0, 0, 0, 0, 0, 0, 1, 1, 1, 1, 1, 0, 0, 0,\n",
       "       0, 1, 1, 0, 0, 0, 1, 1, 0, 1, 0, 0, 0, 1, 0, 1, 1, 1, 0, 1, 1, 0,\n",
       "       0, 0, 0, 1, 1, 0, 0, 0, 0, 0, 0, 1, 0, 0, 0, 0, 1, 0, 1, 0, 1, 1,\n",
       "       0, 0, 0, 0, 0, 0, 0, 0, 1, 1, 0, 1, 1, 1, 1, 0, 0, 1, 0, 1, 0, 0,\n",
       "       1, 0, 0, 1, 1, 1, 1, 1, 1, 1, 0, 0, 0, 1, 0, 1, 0, 1, 1, 0, 1, 0,\n",
       "       0, 0, 0, 0, 0, 0, 0, 1, 0, 0, 1, 1, 0, 0, 0, 0, 0, 1, 0, 0, 0, 1,\n",
       "       1, 0, 1, 0, 0, 1, 0, 0, 0, 0, 0, 0, 1, 0, 0, 0, 0, 0, 0, 0, 1, 0,\n",
       "       1, 1, 0, 1, 1, 0, 1, 1, 0, 0, 1, 0, 1, 0, 1, 0, 0, 1, 0, 0, 1, 0,\n",
       "       0, 0, 1, 0, 0, 1, 0, 1, 0, 1, 0, 1, 1, 0, 0, 1, 0, 0, 1, 1, 0, 1,\n",
       "       1, 0, 0, 1, 1, 0, 1, 0, 1, 1, 0, 0, 0, 0, 0, 0, 0, 0, 0, 1, 1, 1,\n",
       "       1, 1, 0, 0, 1, 1, 0, 1, 1, 1, 0, 0, 0, 1, 0, 1, 0, 0, 0, 1, 0, 0,\n",
       "       0, 0, 1, 0, 0, 1, 1, 0, 0, 0, 1, 0, 0, 1, 1, 1, 0, 0, 1, 0, 0, 1,\n",
       "       0, 0, 1, 0, 0, 1, 1, 0, 0, 0, 0, 1, 0, 0, 1, 0, 1, 0, 0, 1, 0, 0,\n",
       "       0, 0, 0, 1, 0, 1, 1, 1, 0, 1, 0, 1, 0, 1, 0, 1, 0, 0, 0, 0, 0, 0,\n",
       "       1, 0, 0, 0, 1, 0, 0, 0, 0, 1, 1, 0, 0, 1, 0, 0, 0, 1, 0, 1, 0, 1,\n",
       "       0, 0, 0, 0, 0, 0, 0, 1, 1, 1, 1, 0, 0, 0, 0, 1, 0, 0, 1, 1, 0, 0,\n",
       "       0, 0, 1, 1, 1, 1, 1, 0, 1, 0, 0, 0, 1, 1, 0, 0, 1, 0, 0, 0, 1, 0,\n",
       "       1, 1, 0, 0, 1, 0, 0, 0, 0, 0, 0, 1, 0, 0, 1, 0, 1, 0, 1, 0, 0, 1,\n",
       "       0, 0, 1, 1, 0, 0, 1, 1, 0, 0, 0, 1, 0, 0, 1, 1, 0, 1, 0, 0, 0, 0,\n",
       "       0, 0, 0, 0, 1, 0, 0, 1, 0, 1, 1, 1, 0, 0, 0, 0, 1, 0, 1, 0, 0, 0,\n",
       "       0, 0, 0, 0, 1, 1, 0, 0, 0, 1, 1, 1, 1, 0, 0, 0, 0, 1, 0, 0, 0, 0,\n",
       "       0, 0, 0, 0, 0, 0, 1, 1, 0, 1, 0, 0, 0, 1, 1, 1, 1, 1, 0, 0, 0, 1,\n",
       "       0, 0, 1, 1, 0, 0, 1, 0, 0, 0, 0, 0, 0, 1, 0, 0, 0, 1, 0, 1, 1, 1,\n",
       "       1, 0, 0, 0, 1, 0, 0, 1, 1, 0, 0, 1, 0, 1, 0, 0, 1, 1, 0, 0, 0, 1,\n",
       "       1, 0, 0, 0, 0, 0, 0, 1, 0, 1, 0])"
      ]
     },
     "execution_count": 31,
     "metadata": {},
     "output_type": "execute_result"
    }
   ],
   "source": [
    "y"
   ]
  },
  {
   "cell_type": "code",
   "execution_count": 32,
   "metadata": {
    "execution": {
     "iopub.execute_input": "2020-11-22T16:28:14.006456Z",
     "iopub.status.busy": "2020-11-22T16:28:14.005589Z",
     "iopub.status.idle": "2020-11-22T16:28:14.013034Z",
     "shell.execute_reply": "2020-11-22T16:28:14.012311Z"
    },
    "papermill": {
     "duration": 0.058,
     "end_time": "2020-11-22T16:28:14.013169",
     "exception": false,
     "start_time": "2020-11-22T16:28:13.955169",
     "status": "completed"
    },
    "tags": []
   },
   "outputs": [],
   "source": [
    "from sklearn.model_selection import StratifiedKFold\n",
    "\n",
    "fold = StratifiedKFold(n_splits=8, shuffle=True, random_state=71)\n",
    "cv = list(fold.split(train_feat_df, y))"
   ]
  },
  {
   "cell_type": "code",
   "execution_count": 33,
   "metadata": {
    "execution": {
     "iopub.execute_input": "2020-11-22T16:28:14.114301Z",
     "iopub.status.busy": "2020-11-22T16:28:14.113167Z",
     "iopub.status.idle": "2020-11-22T16:28:14.128270Z",
     "shell.execute_reply": "2020-11-22T16:28:14.127476Z"
    },
    "papermill": {
     "duration": 0.072702,
     "end_time": "2020-11-22T16:28:14.128400",
     "exception": false,
     "start_time": "2020-11-22T16:28:14.055698",
     "status": "completed"
    },
    "tags": []
   },
   "outputs": [
    {
     "data": {
      "text/html": [
       "<div>\n",
       "<style scoped>\n",
       "    .dataframe tbody tr th:only-of-type {\n",
       "        vertical-align: middle;\n",
       "    }\n",
       "\n",
       "    .dataframe tbody tr th {\n",
       "        vertical-align: top;\n",
       "    }\n",
       "\n",
       "    .dataframe thead th {\n",
       "        text-align: right;\n",
       "    }\n",
       "</style>\n",
       "<table border=\"1\" class=\"dataframe\">\n",
       "  <thead>\n",
       "    <tr style=\"text-align: right;\">\n",
       "      <th></th>\n",
       "      <th>sex_value</th>\n",
       "      <th>family_size</th>\n",
       "      <th>sibsp_size</th>\n",
       "      <th>parch_size</th>\n",
       "      <th>embarked_value</th>\n",
       "      <th>fare_value</th>\n",
       "      <th>age_value</th>\n",
       "      <th>pclass_value</th>\n",
       "      <th>cabin_value</th>\n",
       "    </tr>\n",
       "  </thead>\n",
       "  <tbody>\n",
       "    <tr>\n",
       "      <th>0</th>\n",
       "      <td>0</td>\n",
       "      <td>0.2</td>\n",
       "      <td>0.25</td>\n",
       "      <td>0.0</td>\n",
       "      <td>1.0</td>\n",
       "      <td>0.072500</td>\n",
       "      <td>0.44</td>\n",
       "      <td>0.0</td>\n",
       "      <td>1.0</td>\n",
       "    </tr>\n",
       "    <tr>\n",
       "      <th>1</th>\n",
       "      <td>1</td>\n",
       "      <td>0.2</td>\n",
       "      <td>0.25</td>\n",
       "      <td>0.0</td>\n",
       "      <td>0.2</td>\n",
       "      <td>0.712833</td>\n",
       "      <td>0.76</td>\n",
       "      <td>0.8</td>\n",
       "      <td>0.2</td>\n",
       "    </tr>\n",
       "    <tr>\n",
       "      <th>2</th>\n",
       "      <td>1</td>\n",
       "      <td>0.1</td>\n",
       "      <td>0.00</td>\n",
       "      <td>0.0</td>\n",
       "      <td>1.0</td>\n",
       "      <td>0.079250</td>\n",
       "      <td>0.52</td>\n",
       "      <td>0.0</td>\n",
       "      <td>1.0</td>\n",
       "    </tr>\n",
       "    <tr>\n",
       "      <th>3</th>\n",
       "      <td>1</td>\n",
       "      <td>0.2</td>\n",
       "      <td>0.25</td>\n",
       "      <td>0.0</td>\n",
       "      <td>1.0</td>\n",
       "      <td>0.531000</td>\n",
       "      <td>0.70</td>\n",
       "      <td>0.8</td>\n",
       "      <td>0.2</td>\n",
       "    </tr>\n",
       "    <tr>\n",
       "      <th>4</th>\n",
       "      <td>0</td>\n",
       "      <td>0.1</td>\n",
       "      <td>0.00</td>\n",
       "      <td>0.0</td>\n",
       "      <td>1.0</td>\n",
       "      <td>0.080500</td>\n",
       "      <td>0.70</td>\n",
       "      <td>0.0</td>\n",
       "      <td>1.0</td>\n",
       "    </tr>\n",
       "    <tr>\n",
       "      <th>...</th>\n",
       "      <td>...</td>\n",
       "      <td>...</td>\n",
       "      <td>...</td>\n",
       "      <td>...</td>\n",
       "      <td>...</td>\n",
       "      <td>...</td>\n",
       "      <td>...</td>\n",
       "      <td>...</td>\n",
       "      <td>...</td>\n",
       "    </tr>\n",
       "    <tr>\n",
       "      <th>886</th>\n",
       "      <td>0</td>\n",
       "      <td>0.1</td>\n",
       "      <td>0.00</td>\n",
       "      <td>0.0</td>\n",
       "      <td>1.0</td>\n",
       "      <td>0.130000</td>\n",
       "      <td>0.54</td>\n",
       "      <td>0.4</td>\n",
       "      <td>1.0</td>\n",
       "    </tr>\n",
       "    <tr>\n",
       "      <th>887</th>\n",
       "      <td>1</td>\n",
       "      <td>0.1</td>\n",
       "      <td>0.00</td>\n",
       "      <td>0.0</td>\n",
       "      <td>1.0</td>\n",
       "      <td>0.300000</td>\n",
       "      <td>0.38</td>\n",
       "      <td>0.8</td>\n",
       "      <td>0.0</td>\n",
       "    </tr>\n",
       "    <tr>\n",
       "      <th>888</th>\n",
       "      <td>1</td>\n",
       "      <td>0.4</td>\n",
       "      <td>0.25</td>\n",
       "      <td>0.5</td>\n",
       "      <td>1.0</td>\n",
       "      <td>0.234500</td>\n",
       "      <td>NaN</td>\n",
       "      <td>0.0</td>\n",
       "      <td>1.0</td>\n",
       "    </tr>\n",
       "    <tr>\n",
       "      <th>889</th>\n",
       "      <td>0</td>\n",
       "      <td>0.1</td>\n",
       "      <td>0.00</td>\n",
       "      <td>0.0</td>\n",
       "      <td>0.2</td>\n",
       "      <td>0.300000</td>\n",
       "      <td>0.52</td>\n",
       "      <td>0.8</td>\n",
       "      <td>0.2</td>\n",
       "    </tr>\n",
       "    <tr>\n",
       "      <th>890</th>\n",
       "      <td>0</td>\n",
       "      <td>0.1</td>\n",
       "      <td>0.00</td>\n",
       "      <td>0.0</td>\n",
       "      <td>0.6</td>\n",
       "      <td>0.077500</td>\n",
       "      <td>0.64</td>\n",
       "      <td>0.0</td>\n",
       "      <td>1.0</td>\n",
       "    </tr>\n",
       "  </tbody>\n",
       "</table>\n",
       "<p>891 rows × 9 columns</p>\n",
       "</div>"
      ],
      "text/plain": [
       "     sex_value  family_size  sibsp_size  parch_size  embarked_value  \\\n",
       "0            0          0.2        0.25         0.0             1.0   \n",
       "1            1          0.2        0.25         0.0             0.2   \n",
       "2            1          0.1        0.00         0.0             1.0   \n",
       "3            1          0.2        0.25         0.0             1.0   \n",
       "4            0          0.1        0.00         0.0             1.0   \n",
       "..         ...          ...         ...         ...             ...   \n",
       "886          0          0.1        0.00         0.0             1.0   \n",
       "887          1          0.1        0.00         0.0             1.0   \n",
       "888          1          0.4        0.25         0.5             1.0   \n",
       "889          0          0.1        0.00         0.0             0.2   \n",
       "890          0          0.1        0.00         0.0             0.6   \n",
       "\n",
       "     fare_value  age_value  pclass_value  cabin_value  \n",
       "0      0.072500       0.44           0.0          1.0  \n",
       "1      0.712833       0.76           0.8          0.2  \n",
       "2      0.079250       0.52           0.0          1.0  \n",
       "3      0.531000       0.70           0.8          0.2  \n",
       "4      0.080500       0.70           0.0          1.0  \n",
       "..          ...        ...           ...          ...  \n",
       "886    0.130000       0.54           0.4          1.0  \n",
       "887    0.300000       0.38           0.8          0.0  \n",
       "888    0.234500        NaN           0.0          1.0  \n",
       "889    0.300000       0.52           0.8          0.2  \n",
       "890    0.077500       0.64           0.0          1.0  \n",
       "\n",
       "[891 rows x 9 columns]"
      ]
     },
     "execution_count": 33,
     "metadata": {},
     "output_type": "execute_result"
    }
   ],
   "source": [
    "train_feat_df"
   ]
  },
  {
   "cell_type": "code",
   "execution_count": 34,
   "metadata": {
    "execution": {
     "iopub.execute_input": "2020-11-22T16:28:14.221822Z",
     "iopub.status.busy": "2020-11-22T16:28:14.221036Z",
     "iopub.status.idle": "2020-11-22T16:28:16.073398Z",
     "shell.execute_reply": "2020-11-22T16:28:16.074217Z"
    },
    "papermill": {
     "duration": 1.902442,
     "end_time": "2020-11-22T16:28:16.074403",
     "exception": false,
     "start_time": "2020-11-22T16:28:14.171961",
     "status": "completed"
    },
    "tags": []
   },
   "outputs": [
    {
     "name": "stdout",
     "output_type": "stream",
     "text": [
      "Training until validation scores don't improve for 100 rounds\n",
      "[100]\tvalid_0's binary_logloss: 0.462459\tvalid_0's pr_auc: 0.866014\n",
      "Early stopping, best iteration is:\n",
      "[78]\tvalid_0's binary_logloss: 0.45297\tvalid_0's pr_auc: 0.866299\n",
      "fit fold=1 0.273[s]\n",
      "Fold 0 PR-AUC: 0.8663\n",
      "Training until validation scores don't improve for 100 rounds\n",
      "[100]\tvalid_0's binary_logloss: 0.41347\tvalid_0's pr_auc: 0.854921\n",
      "Early stopping, best iteration is:\n",
      "[50]\tvalid_0's binary_logloss: 0.432949\tvalid_0's pr_auc: 0.861536\n",
      "fit fold=2 0.202[s]\n",
      "Fold 1 PR-AUC: 0.8615\n",
      "Training until validation scores don't improve for 100 rounds\n",
      "[100]\tvalid_0's binary_logloss: 0.393689\tvalid_0's pr_auc: 0.857917\n",
      "[200]\tvalid_0's binary_logloss: 0.38807\tvalid_0's pr_auc: 0.870942\n",
      "Early stopping, best iteration is:\n",
      "[163]\tvalid_0's binary_logloss: 0.3826\tvalid_0's pr_auc: 0.874331\n",
      "fit fold=3 0.348[s]\n",
      "Fold 2 PR-AUC: 0.8743\n",
      "Training until validation scores don't improve for 100 rounds\n",
      "[100]\tvalid_0's binary_logloss: 0.325332\tvalid_0's pr_auc: 0.92202\n",
      "[200]\tvalid_0's binary_logloss: 0.327611\tvalid_0's pr_auc: 0.919129\n",
      "Early stopping, best iteration is:\n",
      "[105]\tvalid_0's binary_logloss: 0.322448\tvalid_0's pr_auc: 0.925169\n",
      "fit fold=4 0.278[s]\n",
      "Fold 3 PR-AUC: 0.9252\n",
      "Training until validation scores don't improve for 100 rounds\n",
      "[100]\tvalid_0's binary_logloss: 0.556795\tvalid_0's pr_auc: 0.753712\n",
      "Early stopping, best iteration is:\n",
      "[27]\tvalid_0's binary_logloss: 0.522252\tvalid_0's pr_auc: 0.78158\n",
      "fit fold=5 0.165[s]\n",
      "Fold 4 PR-AUC: 0.7816\n",
      "Training until validation scores don't improve for 100 rounds\n",
      "[100]\tvalid_0's binary_logloss: 0.490438\tvalid_0's pr_auc: 0.793352\n",
      "Early stopping, best iteration is:\n",
      "[61]\tvalid_0's binary_logloss: 0.473882\tvalid_0's pr_auc: 0.799288\n",
      "fit fold=6 0.209[s]\n",
      "Fold 5 PR-AUC: 0.7993\n",
      "Training until validation scores don't improve for 100 rounds\n",
      "[100]\tvalid_0's binary_logloss: 0.357946\tvalid_0's pr_auc: 0.888804\n",
      "Early stopping, best iteration is:\n",
      "[36]\tvalid_0's binary_logloss: 0.423165\tvalid_0's pr_auc: 0.900243\n",
      "fit fold=7 0.171[s]\n",
      "Fold 6 PR-AUC: 0.9002\n",
      "Training until validation scores don't improve for 100 rounds\n",
      "[100]\tvalid_0's binary_logloss: 0.379822\tvalid_0's pr_auc: 0.863054\n",
      "Early stopping, best iteration is:\n",
      "[36]\tvalid_0's binary_logloss: 0.430487\tvalid_0's pr_auc: 0.881555\n",
      "fit fold=8 0.181[s]\n",
      "Fold 7 PR-AUC: 0.8816\n",
      "FINISHED \\ whole score: 0.8437\n"
     ]
    }
   ],
   "source": [
    "oof, models = fit_lgbm(train_feat_df.values, y, cv, params=params)"
   ]
  },
  {
   "cell_type": "code",
   "execution_count": 35,
   "metadata": {
    "execution": {
     "iopub.execute_input": "2020-11-22T16:28:16.198103Z",
     "iopub.status.busy": "2020-11-22T16:28:16.196946Z",
     "iopub.status.idle": "2020-11-22T16:28:16.205474Z",
     "shell.execute_reply": "2020-11-22T16:28:16.206288Z"
    },
    "papermill": {
     "duration": 0.074773,
     "end_time": "2020-11-22T16:28:16.206471",
     "exception": false,
     "start_time": "2020-11-22T16:28:16.131698",
     "status": "completed"
    },
    "tags": []
   },
   "outputs": [],
   "source": [
    "def visualize_importance(models, feat_train_df):\n",
    "\n",
    "    feature_importance_df = pd.DataFrame()\n",
    "    for i, model in enumerate(models):\n",
    "        _df = pd.DataFrame()\n",
    "        _df['feature_importance'] = model.feature_importances_\n",
    "        _df['column'] = feat_train_df.columns\n",
    "        _df['fold'] = i + 1\n",
    "        feature_importance_df = pd.concat([feature_importance_df, _df], axis=0, ignore_index=True)\n",
    "\n",
    "    order = feature_importance_df.groupby('column')\\\n",
    "        .sum()[['feature_importance']]\\\n",
    "        .sort_values('feature_importance', ascending=False).index[:50]\n",
    "\n",
    "    fig, ax = plt.subplots(figsize=(max(6, len(order) * .4), 7))\n",
    "    sns.boxenplot(data=feature_importance_df, x='column', y='feature_importance', order=order, ax=ax, palette='viridis')\n",
    "    ax.tick_params(axis='x', rotation=90)\n",
    "    ax.grid()\n",
    "    fig.tight_layout()\n",
    "    return fig, ax"
   ]
  },
  {
   "cell_type": "code",
   "execution_count": 36,
   "metadata": {
    "execution": {
     "iopub.execute_input": "2020-11-22T16:28:16.365056Z",
     "iopub.status.busy": "2020-11-22T16:28:16.364047Z",
     "iopub.status.idle": "2020-11-22T16:28:16.378709Z",
     "shell.execute_reply": "2020-11-22T16:28:16.379544Z"
    },
    "papermill": {
     "duration": 0.099669,
     "end_time": "2020-11-22T16:28:16.379762",
     "exception": false,
     "start_time": "2020-11-22T16:28:16.280093",
     "status": "completed"
    },
    "tags": []
   },
   "outputs": [],
   "source": [
    "pred = np.array([model.predict_proba(test_feat_df.values)[:, 1] for model in models])\n",
    "pred = np.mean(pred, axis=0)\n",
    "\n",
    "#sub_df = pd.DataFrame({ 'target': pred })\n",
    "#sub_df.to_csv(os.path.join(OUTPUT_DIR, 'titanic_submission.csv'), index=False)"
   ]
  },
  {
   "cell_type": "code",
   "execution_count": 37,
   "metadata": {
    "execution": {
     "iopub.execute_input": "2020-11-22T16:28:16.515999Z",
     "iopub.status.busy": "2020-11-22T16:28:16.514930Z",
     "iopub.status.idle": "2020-11-22T16:28:16.527866Z",
     "shell.execute_reply": "2020-11-22T16:28:16.528711Z"
    },
    "papermill": {
     "duration": 0.089213,
     "end_time": "2020-11-22T16:28:16.528893",
     "exception": false,
     "start_time": "2020-11-22T16:28:16.439680",
     "status": "completed"
    },
    "tags": []
   },
   "outputs": [
    {
     "data": {
      "text/plain": [
       "array([0.11279764, 0.24863331, 0.13173747, 0.2230103 , 0.42880179,\n",
       "       0.2006597 , 0.49321524, 0.32452117, 0.64008459, 0.13196264,\n",
       "       0.07125503, 0.191988  , 0.87419613, 0.12328849, 0.83009119,\n",
       "       0.75200365, 0.17383175, 0.24757666, 0.45751579, 0.3840811 ,\n",
       "       0.41918787, 0.31771886, 0.7810322 , 0.34136454, 0.81159223,\n",
       "       0.09436733, 0.88148153, 0.24805027, 0.51396402, 0.3005384 ,\n",
       "       0.16742362, 0.23643679, 0.57129338, 0.44998355, 0.52111966,\n",
       "       0.23664653, 0.28646354, 0.25254914, 0.1342583 , 0.35890082,\n",
       "       0.16832271, 0.59168231, 0.11592595, 0.78085266, 0.85520677,\n",
       "       0.1809374 , 0.39217949, 0.17329265, 0.84630417, 0.59340421,\n",
       "       0.42251249, 0.19713388, 0.76615955, 0.69082651, 0.21005001,\n",
       "       0.12517792, 0.07308582, 0.15034035, 0.16333315, 0.92230072,\n",
       "       0.09883457, 0.25631516, 0.15168189, 0.63674446, 0.59502232,\n",
       "       0.7333892 , 0.66520241, 0.20569645, 0.56528205, 0.71952847,\n",
       "       0.65334719, 0.07643446, 0.46032513, 0.64471002, 0.8978774 ,\n",
       "       0.58059132, 0.12739524, 0.7329302 , 0.20911768, 0.65334719,\n",
       "       0.7365747 , 0.30162828, 0.22462585, 0.07125503, 0.18549797,\n",
       "       0.17287392, 0.67309322, 0.39281171, 0.68674454, 0.80240622,\n",
       "       0.35916301, 0.14916972, 0.83424914, 0.12739524, 0.31142426,\n",
       "       0.22434132, 0.84003381, 0.24431102, 0.49451933, 0.15605971,\n",
       "       0.87947223, 0.19734996, 0.17329265, 0.25236115, 0.51472636,\n",
       "       0.14814423, 0.20061907, 0.17329265, 0.10542314, 0.162509  ,\n",
       "       0.17235352, 0.66962001, 0.84168822, 0.61862282, 0.83433956,\n",
       "       0.17491867, 0.0958024 , 0.76222542, 0.56163323, 0.75992053,\n",
       "       0.80660021, 0.19143279, 0.90211246, 0.11928553, 0.17329265,\n",
       "       0.62601758, 0.16575584, 0.66019873, 0.23511788, 0.13763868,\n",
       "       0.30097571, 0.29061318, 0.14353775, 0.11341137, 0.08355066,\n",
       "       0.1589004 , 0.29951884, 0.17772169, 0.29613733, 0.08635211,\n",
       "       0.12763424, 0.88859669, 0.29126974, 0.18533717, 0.5192155 ,\n",
       "       0.18057404, 0.41988839, 0.1258614 , 0.35598809, 0.27938248,\n",
       "       0.85092297, 0.11809954, 0.06074603, 0.50619452, 0.12484168,\n",
       "       0.12697809, 0.85131691, 0.51769582, 0.67265028, 0.51090507,\n",
       "       0.66003157, 0.68706626, 0.68303895, 0.07939975, 0.21706069,\n",
       "       0.52264723, 0.29229913, 0.07562295, 0.77991059, 0.28040703,\n",
       "       0.08434327, 0.30757691, 0.11735866, 0.15859067, 0.10054474,\n",
       "       0.85567433, 0.74057358, 0.41581209, 0.77703172, 0.83818816,\n",
       "       0.20911768, 0.62358625, 0.88734889, 0.17329265, 0.8505622 ,\n",
       "       0.17714263, 0.81167282, 0.19510146, 0.16024351, 0.21477393,\n",
       "       0.16426482, 0.1935473 , 0.4623285 , 0.15262562, 0.71455685,\n",
       "       0.11744814, 0.79673371, 0.52415079, 0.11108136, 0.29778636,\n",
       "       0.65087238, 0.71797699, 0.42619864, 0.8719877 , 0.13924155,\n",
       "       0.20676187, 0.47462879, 0.11621408, 0.83429383, 0.1048034 ,\n",
       "       0.23217854, 0.07825921, 0.30823148, 0.67403605, 0.23230497,\n",
       "       0.43350614, 0.69230179, 0.30105483, 0.83736232, 0.12739524,\n",
       "       0.748836  , 0.13124233, 0.65611671, 0.16844985, 0.70934755,\n",
       "       0.51200703, 0.16193354, 0.68674454, 0.09835437, 0.17017788,\n",
       "       0.39873642, 0.80500812, 0.10173901, 0.17507449, 0.50628535,\n",
       "       0.16185402, 0.39575338, 0.26942706, 0.73462273, 0.87648403,\n",
       "       0.69905725, 0.75317908, 0.44608797, 0.07813293, 0.21995991,\n",
       "       0.46061011, 0.71242732, 0.28156863, 0.75992053, 0.42986884,\n",
       "       0.8687478 , 0.1786394 , 0.48126575, 0.09536044, 0.15118143,\n",
       "       0.08434327, 0.17329265, 0.20492671, 0.72362364, 0.15673931,\n",
       "       0.10504243, 0.1442135 , 0.81174081, 0.71342582, 0.23985838,\n",
       "       0.07125503, 0.09686317, 0.08434327, 0.28646354, 0.12151034,\n",
       "       0.33309495, 0.17329265, 0.83615217, 0.64928747, 0.15381001,\n",
       "       0.75221423, 0.17116184, 0.16488642, 0.16579116, 0.11778237,\n",
       "       0.26375633, 0.73154338, 0.68674454, 0.54407345, 0.78246758,\n",
       "       0.06750596, 0.08198301, 0.40352221, 0.15859067, 0.12739524,\n",
       "       0.18894056, 0.42698843, 0.15859067, 0.32835994, 0.12156953,\n",
       "       0.13399632, 0.88076345, 0.3005384 , 0.27565917, 0.19449404,\n",
       "       0.26952031, 0.42085027, 0.21320738, 0.09190863, 0.68674454,\n",
       "       0.76288464, 0.39496459, 0.60910479, 0.37900064, 0.26734872,\n",
       "       0.12468694, 0.24805027, 0.08434327, 0.39482106, 0.82945352,\n",
       "       0.65782992, 0.40332524, 0.16507492, 0.28055516, 0.24066544,\n",
       "       0.25236115, 0.26014576, 0.17772169, 0.52793559, 0.85662577,\n",
       "       0.11004478, 0.83634185, 0.34229071, 0.18242932, 0.13672673,\n",
       "       0.79192379, 0.44403252, 0.15381001, 0.65594876, 0.18316502,\n",
       "       0.35896496, 0.27502474, 0.11769924, 0.26840887, 0.15859067,\n",
       "       0.15291307, 0.16035019, 0.10824852, 0.85310202, 0.20514299,\n",
       "       0.57539018, 0.17772169, 0.37672041, 0.1218811 , 0.76281204,\n",
       "       0.82693615, 0.13924155, 0.19459901, 0.31590441, 0.73894221,\n",
       "       0.25943151, 0.78731561, 0.11914023, 0.17329265, 0.41723638,\n",
       "       0.0685731 , 0.80348508, 0.76281204, 0.2230103 , 0.89849097,\n",
       "       0.21070119, 0.17464985, 0.46642039, 0.84888371, 0.27580464,\n",
       "       0.13761915, 0.91818488, 0.13687661, 0.21412188, 0.85311893,\n",
       "       0.82425421, 0.24188818, 0.12011099, 0.19100863, 0.30343228,\n",
       "       0.17329265, 0.23977225, 0.35448184, 0.49285728, 0.21967213,\n",
       "       0.78594625, 0.17137857, 0.14895671, 0.18286367, 0.18511493,\n",
       "       0.44053926, 0.81554279, 0.49295736, 0.17097424, 0.06684624,\n",
       "       0.84810077, 0.14029298, 0.87973476, 0.15499932, 0.15710712,\n",
       "       0.86782003, 0.13272427, 0.86710664, 0.30034539, 0.55481712,\n",
       "       0.49311869, 0.12936752, 0.38872085, 0.64646399, 0.71345796,\n",
       "       0.68674454, 0.89238708, 0.46130733, 0.12739524, 0.88885302,\n",
       "       0.06442973, 0.12739524, 0.38726832])"
      ]
     },
     "execution_count": 37,
     "metadata": {},
     "output_type": "execute_result"
    }
   ],
   "source": [
    "pred"
   ]
  },
  {
   "cell_type": "code",
   "execution_count": 38,
   "metadata": {
    "execution": {
     "iopub.execute_input": "2020-11-22T16:28:16.653437Z",
     "iopub.status.busy": "2020-11-22T16:28:16.651450Z",
     "iopub.status.idle": "2020-11-22T16:28:16.656908Z",
     "shell.execute_reply": "2020-11-22T16:28:16.656071Z"
    },
    "papermill": {
     "duration": 0.072959,
     "end_time": "2020-11-22T16:28:16.657042",
     "exception": false,
     "start_time": "2020-11-22T16:28:16.584083",
     "status": "completed"
    },
    "tags": []
   },
   "outputs": [],
   "source": [
    "pred_life=[]\n",
    "\n",
    "for i in range(len(pred)):\n",
    "    if pred[i]<0.5:\n",
    "        pred_life.append(0)\n",
    "    else:\n",
    "        pred_life.append(1)        \n",
    "\n",
    "my_submit0 = ['PassengerId']\n",
    "my_submit1 = ['Survived']\n",
    "\n",
    "\n",
    "for i in range(0, len(pred)):\n",
    "    my_submit0.append(str(892+i))\n",
    "    my_submit1.append(str(pred_life[i]))\n",
    "\n",
    "    \n",
    "my_submit=[]\n",
    "\n",
    "my_submit.append(my_submit0)\n",
    "my_submit.append(my_submit1)\n",
    "\n",
    "my_submit2=np.transpose(my_submit)\n",
    "\n",
    "my_submit3 = pd.DataFrame(my_submit2)\n",
    "my_submit3.to_csv('titanic_lgb6_submission.csv', index=False, header=False)"
   ]
  },
  {
   "cell_type": "code",
   "execution_count": null,
   "metadata": {
    "papermill": {
     "duration": 0.047846,
     "end_time": "2020-11-22T16:28:16.754258",
     "exception": false,
     "start_time": "2020-11-22T16:28:16.706412",
     "status": "completed"
    },
    "tags": []
   },
   "outputs": [],
   "source": []
  }
 ],
 "metadata": {
  "kernelspec": {
   "display_name": "Python 3",
   "language": "python",
   "name": "python3"
  },
  "language_info": {
   "codemirror_mode": {
    "name": "ipython",
    "version": 3
   },
   "file_extension": ".py",
   "mimetype": "text/x-python",
   "name": "python",
   "nbconvert_exporter": "python",
   "pygments_lexer": "ipython3",
   "version": "3.7.6"
  },
  "papermill": {
   "duration": 14.834236,
   "end_time": "2020-11-22T16:28:16.912006",
   "environment_variables": {},
   "exception": null,
   "input_path": "__notebook__.ipynb",
   "output_path": "__notebook__.ipynb",
   "parameters": {},
   "start_time": "2020-11-22T16:28:02.077770",
   "version": "2.1.0"
  }
 },
 "nbformat": 4,
 "nbformat_minor": 4
}
